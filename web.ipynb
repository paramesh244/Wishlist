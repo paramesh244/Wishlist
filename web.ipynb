{
 "cells": [
  {
   "cell_type": "code",
   "execution_count": 1,
   "id": "4efde09f",
   "metadata": {},
   "outputs": [],
   "source": [
    "import requests\n",
    "from bs4 import BeautifulSoup"
   ]
  },
  {
   "cell_type": "code",
   "execution_count": 2,
   "id": "8e1b01ab",
   "metadata": {},
   "outputs": [],
   "source": [
    "page=requests.get(\"https://www.flipkart.com/bestic-fashion-casual-flute-sleeve-printed-women-blue-top/p/itm0ff91c938e532?pid=TOPFN4QEGAZG7HHB&lid=LSTTOPFN4QEGAZG7HHBD21HEM&marketplace=FLIPKART&q=top&store=clo%2Fash%2Fohw&srno=s_1_1&otracker=search&otracker1=search&fm=SEARCH&iid=en_bJZIfU%2B0cmUq3Rm4AY4PhTs3eJCJWJajDbf0beDpX1T0hDPEtRcLTpM1JLGSYRl5VauA3TsBvE1yaOVLp90MuA%3D%3D&ppt=sp&ppn=sp&ssid=6jv7g60d680000001638851165712&qH=b28354b543375bfa\")"
   ]
  },
  {
   "cell_type": "code",
   "execution_count": 3,
   "id": "7ee6f0fd",
   "metadata": {},
   "outputs": [],
   "source": [
    "soup=BeautifulSoup(page.content,'html.parser')"
   ]
  },
  {
   "cell_type": "code",
   "execution_count": 6,
   "id": "f3357307",
   "metadata": {},
   "outputs": [
    {
     "name": "stdout",
     "output_type": "stream",
     "text": [
      "Casual Flute Sleeves Printed Women Blue Top\n"
     ]
    }
   ],
   "source": [
    "name=soup.find(\"span\",class_=\"B_NuCI\")\n",
    "print(name.text)"
   ]
  },
  {
   "cell_type": "code",
   "execution_count": 7,
   "id": "966c6d13",
   "metadata": {},
   "outputs": [
    {
     "name": "stdout",
     "output_type": "stream",
     "text": [
      "₹336\n"
     ]
    }
   ],
   "source": [
    "price=soup.find(\"div\",class_=\"_30jeq3 _16Jk6d\")\n",
    "print(price.text)"
   ]
  },
  {
   "cell_type": "code",
   "execution_count": 15,
   "id": "b5b8a18d",
   "metadata": {},
   "outputs": [
    {
     "name": "stdout",
     "output_type": "stream",
     "text": [
      "<img alt=\"\" class=\"_2r_T1I _396QI4\" src=\"\"/>\n"
     ]
    }
   ],
   "source": [
    "image=soup.find(\"img\",class_=\"_2r_T1I _396QI4\")\n",
    "print(image)"
   ]
  },
  {
   "cell_type": "code",
   "execution_count": null,
   "id": "cfc2d359",
   "metadata": {},
   "outputs": [],
   "source": []
  }
 ],
 "metadata": {
  "kernelspec": {
   "display_name": "Python 3",
   "language": "python",
   "name": "python3"
  },
  "language_info": {
   "codemirror_mode": {
    "name": "ipython",
    "version": 3
   },
   "file_extension": ".py",
   "mimetype": "text/x-python",
   "name": "python",
   "nbconvert_exporter": "python",
   "pygments_lexer": "ipython3",
   "version": "3.8.8"
  }
 },
 "nbformat": 4,
 "nbformat_minor": 5
}
